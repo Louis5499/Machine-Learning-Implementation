{
  "nbformat": 4,
  "nbformat_minor": 0,
  "metadata": {
    "colab": {
      "name": "hw2.ipynb",
      "provenance": [],
      "collapsed_sections": [],
      "toc_visible": true
    },
    "kernelspec": {
      "name": "python3",
      "display_name": "Python 3"
    }
  },
  "cells": [
    {
      "cell_type": "markdown",
      "metadata": {
        "id": "q1vhjgw0IvVs"
      },
      "source": [
        "## Predict Final Result Block\n",
        "跑完這個 block 以後，就可以得到 final CSV"
      ]
    },
    {
      "cell_type": "code",
      "metadata": {
        "id": "m9XpaCBX-CNI"
      },
      "source": [
        "import pandas as pd\n",
        "from sklearn.model_selection import train_test_split\n",
        "from sklearn import preprocessing\n",
        "from sklearn.preprocessing import LabelEncoder\n",
        "labelencoder = LabelEncoder()\n",
        "import csv\n",
        "\n",
        "data = pd.read_csv('./fixed_test.csv')\n",
        "\n",
        "# Create Dataframe\n",
        "df = pd.DataFrame(data)\n",
        "patientList = df['PATIENT ID'].to_numpy()\n",
        "df = df.drop(columns=['admission_datetime', 'PATIENT ID', 'sex'])\n",
        "\n",
        "# Since ed_diagnosis is STRING LABEL, we need to transform the string to integer label for further training\n",
        "df = pd.get_dummies(df)\n",
        "\n",
        "# Fill NAN values\n",
        "headerList = df.columns.values.tolist()\n",
        "filteredList = list(filter(lambda name: 'pmhx' in name, headerList)) # need to fill mode\n",
        "otherList = list(filter(lambda name: 'pmhx' not in name, headerList)) # need to fill mean\n",
        "\n",
        "for filteredCol in filteredList:\n",
        "  df[filteredCol].fillna(df[filteredCol].mode()[0], inplace=True)\n",
        "\n",
        "for otherCol in otherList:\n",
        "  df[otherCol].fillna(df[otherCol].mean(), inplace=True)\n",
        "\n",
        "final_data_list = df.to_numpy()\n",
        "\n",
        "from tensorflow import keras\n",
        "model = keras.models.load_model('1.19_draft.h5')\n",
        "predict_ans = model.predict(final_data_list)\n",
        "predict_ans = predict_ans.round()\n",
        "\n",
        "with open('106062322.csv', 'w', newline='') as csvfile:\n",
        "  writer = csv.writer(csvfile)\n",
        "  writer.writerow(['PATIENT ID', 'hospital_outcome'])\n",
        "  for idx, val in enumerate(predict_ans):\n",
        "    writer.writerow([ patientList[idx], int(predict_ans[idx][0])])"
      ],
      "execution_count": 2,
      "outputs": []
    },
    {
      "cell_type": "markdown",
      "metadata": {
        "id": "DS93z5tA56vA"
      },
      "source": [
        "## HW2: Classification implementation\n",
        "**It's unnecessary to run if only need to generate predict result!**\n",
        "\n",
        "\n",
        "## Data Preprocessing"
      ]
    },
    {
      "cell_type": "code",
      "metadata": {
        "id": "QMlMRyn_9_xQ",
        "outputId": "a2172c8d-8a22-4790-d6c6-a8852a03963c",
        "colab": {
          "base_uri": "https://localhost:8080/"
        }
      },
      "source": [
        "from google.colab import drive\n",
        "drive.mount(\"/content/drive\")\n",
        "\n",
        "import warnings\n",
        "warnings.simplefilter(action=\"ignore\", category=FutureWarning)"
      ],
      "execution_count": null,
      "outputs": [
        {
          "output_type": "stream",
          "text": [
            "Drive already mounted at /content/drive; to attempt to forcibly remount, call drive.mount(\"/content/drive\", force_remount=True).\n"
          ],
          "name": "stdout"
        }
      ]
    },
    {
      "cell_type": "code",
      "metadata": {
        "id": "Ipu_p_x2DYNT"
      },
      "source": [
        "import matplotlib.pyplot as plt\n",
        "from sklearn import metrics\n",
        "from sklearn.metrics import roc_curve, auc\n",
        "import seaborn\n",
        "# plot ROC curve\n",
        "def plot_roc(label, pred):\n",
        "  fpr, tpr, _ = roc_curve(label, pred)\n",
        "  roc_auc = auc(fpr, tpr)\n",
        "\n",
        "  fig = plt.figure()\n",
        "  lw = 2\n",
        "  plt.plot(fpr, tpr, color='darkorange', lw=lw, label='ROC curve (area = %0.2f)' % roc_auc)\n",
        "  plt.plot([0, 1], [0, 1], color='navy', lw=lw, linestyle='--')\n",
        "  plt.xlim([0.0, 1.0])\n",
        "  plt.ylim([0.0, 1.0])\n",
        "  plt.xlabel('False Positive Rate')\n",
        "  plt.ylabel('True Positive Rate')\n",
        "  plt.legend(loc=\"lower right\")\n",
        "  plt.show()\n",
        "  return\n",
        "\n",
        "def plot_precision_recall(label, pred):\n",
        "  precision = metrics.precision_score(label, pred)\n",
        "  recall = metrics.recall_score(label, pred)\n",
        "  confusion_metrix = metrics.confusion_matrix(label, pred)\n",
        "  seaborn.heatmap(confusion_metrix, annot=True, fmt=\"d\", cmap=\"YlGnBu\", cbar=False)\n",
        "  plt.show()\n",
        "  print(f\"Precision: {precision}\")\n",
        "  print(f\"Recall: {recall}\")\n",
        "  print(f\"Precision + Recall: {precision + recall}\")\n",
        "  # print(precision, recall)\n",
        "  # print(confusion_metrix)\n",
        "  return\n",
        "\n",
        "def plot_loss(history):\n",
        "  plt.plot(history.history['loss'])\n",
        "  plt.plot(history.history['val_loss'])\n",
        "  plt.title('Model loss')\n",
        "  plt.ylabel('Loss')\n",
        "  plt.xlabel('Epoch')\n",
        "  plt.legend(['Train', 'Test'], loc='upper right')\n",
        "  plt.show()\n",
        "  return"
      ],
      "execution_count": null,
      "outputs": []
    },
    {
      "cell_type": "code",
      "metadata": {
        "id": "K_LyEfuj54uv",
        "outputId": "24c8eac8-8b00-4cdc-af95-0a087a77860e",
        "colab": {
          "base_uri": "https://localhost:8080/"
        }
      },
      "source": [
        "\n",
        "data = pd.read_csv('/content/drive/My Drive/ML-Homework/hw2/hm_hospitales_covid_structured_30d_train.csv')\n",
        "ans_data = pd.read_csv('/content/drive/My Drive/ML-Homework/hw2/split_train_export_30d.csv')\n",
        "\n",
        "# Create Dataframe\n",
        "df = pd.DataFrame(data)\n",
        "ans_df = pd.DataFrame(ans_data)\n",
        "\n",
        "df = df.drop(columns=['admission_datetime', 'PATIENT ID', 'sex'])\n",
        "ans_df = ans_df.drop(columns=['PATIENT ID'])\n",
        "\n",
        "# Since ed_diagnosis is STRING LABEL, we need to transform the string to integer label for further training\n",
        "# df['ed_diagnosis'] = labelencoder.fit_transform(df['ed_diagnosis'])\n",
        "df = pd.get_dummies(df)\n",
        "\n",
        "# Fill NAN values\n",
        "headerList = df.columns.values.tolist()\n",
        "filteredList = list(filter(lambda name: 'pmhx' in name, headerList)) # need to fill mode\n",
        "otherList = list(filter(lambda name: 'pmhx' not in name, headerList)) # need to fill mean\n",
        "\n",
        "for filteredCol in filteredList:\n",
        "  df[filteredCol].fillna(df[filteredCol].mode()[0], inplace=True)\n",
        "\n",
        "for otherCol in otherList:\n",
        "  df[otherCol].fillna(df[otherCol].mean(), inplace=True)\n",
        "\n",
        "# Normalize Data\n",
        "# Reference to https://stackoverflow.com/questions/26414913/normalize-columns-of-pandas-data-frame\n",
        "# x = df.values #returns a numpy array\n",
        "# min_max_scaler = preprocessing.MinMaxScaler()\n",
        "# x_scaled = min_max_scaler.fit_transform(x)\n",
        "# df = pd.DataFrame(x_scaled)\n",
        "\n",
        "\n",
        "# Split data from original dataset\n",
        "TRAIN_TEST_SPLIT_RATIO = 0.2\n",
        "\n",
        "training_data_list, testing_data_list, training_ans_list, testing_ans_list = train_test_split(df, ans_df, test_size=TRAIN_TEST_SPLIT_RATIO, random_state=0)\n",
        "# training_ans_list = training_ans_list.values.ravel()\n",
        "\n",
        "# Increase dead person amout\n",
        "from imblearn.over_sampling import SMOTE\n",
        "from collections import Counter\n",
        "smote = SMOTE(ratio='minority')\n",
        "training_data_list, training_ans_list = smote.fit_sample(training_data_list, training_ans_list)\n",
        "print(f\"Dead Count: {Counter(training_ans_list)}\")\n",
        "\n",
        "print(training_data_list)"
      ],
      "execution_count": null,
      "outputs": [
        {
          "output_type": "stream",
          "text": [
            "Dead Count: Counter({0: 1263, 1: 1263})\n",
            "[[ 59.          36.71511253 132.05660377 ...   0.           0.\n",
            "    0.        ]\n",
            " [ 70.          36.71511253 132.05660377 ...   0.           0.\n",
            "    0.        ]\n",
            " [ 61.          37.6        144.         ...   1.           0.\n",
            "    0.        ]\n",
            " ...\n",
            " [ 76.18217361  36.19498306 117.27326042 ...   0.76765702   0.\n",
            "    0.        ]\n",
            " [ 77.95454807  36.70861188 131.89246227 ...   0.           0.\n",
            "    0.        ]\n",
            " [ 87.05637348  36.68163763 121.         ...   0.           0.\n",
            "    0.70919844]]\n"
          ],
          "name": "stdout"
        },
        {
          "output_type": "stream",
          "text": [
            "/usr/local/lib/python3.6/dist-packages/sklearn/utils/validation.py:760: DataConversionWarning: A column-vector y was passed when a 1d array was expected. Please change the shape of y to (n_samples, ), for example using ravel().\n",
            "  y = column_or_1d(y, warn=True)\n"
          ],
          "name": "stderr"
        }
      ]
    },
    {
      "cell_type": "markdown",
      "metadata": {
        "id": "QJmWsGHWekK6"
      },
      "source": [
        "## Random Forest Classifier"
      ]
    },
    {
      "cell_type": "code",
      "metadata": {
        "id": "JFP-fb14Fxcm",
        "outputId": "2aa5e9b0-47ff-49c1-d4e5-b785c79f0b28",
        "colab": {
          "base_uri": "https://localhost:8080/",
          "height": 582
        }
      },
      "source": [
        "from sklearn.ensemble import RandomForestClassifier\n",
        "clf = RandomForestClassifier(max_depth=5, n_estimators=1050)\n",
        "clf.fit(training_data_list, training_ans_list)\n",
        "predict_result = clf.predict(testing_data_list)\n",
        "\n",
        "plot_roc(testing_ans_list, predict_result)\n",
        "plot_precision_recall(testing_ans_list, predict_result)"
      ],
      "execution_count": null,
      "outputs": [
        {
          "output_type": "display_data",
          "data": {
            "image/png": "[encoded data removed]",
            "text/plain": [
              "<Figure size 432x288 with 1 Axes>"
            ]
          },
          "metadata": {
            "tags": [],
            "needs_background": "light"
          }
        },
        {
          "output_type": "display_data",
          "data": {
            "image/png": "[encoded data removed]",
            "text/plain": [
              "<Figure size 432x288 with 1 Axes>"
            ]
          },
          "metadata": {
            "tags": [],
            "needs_background": "light"
          }
        },
        {
          "output_type": "stream",
          "text": [
            "Precision: 0.36470588235294116\n",
            "Recall: 0.5849056603773585\n",
            "Precision + Recall: 0.9496115427302996\n"
          ],
          "name": "stdout"
        }
      ]
    },
    {
      "cell_type": "markdown",
      "metadata": {
        "id": "emtCB6yUeuMz"
      },
      "source": [
        "## Xgboost Classifier"
      ]
    },
    {
      "cell_type": "code",
      "metadata": {
        "id": "E6cYly0LdPfQ",
        "outputId": "e904bf7d-175b-4d9a-bbd2-278379106254",
        "colab": {
          "base_uri": "https://localhost:8080/",
          "height": 582
        }
      },
      "source": [
        "from xgboost import XGBClassifier\n",
        "import numpy as np\n",
        "\n",
        "xgbc = XGBClassifier(max_depth=3, n_estimators=490)\n",
        "xgbc.fit(training_data_list, training_ans_list)\n",
        "predict_result = xgbc.predict(testing_data_list.to_numpy())\n",
        "\n",
        "plot_roc(testing_ans_list, predict_result)\n",
        "plot_precision_recall(testing_ans_list, predict_result)"
      ],
      "execution_count": null,
      "outputs": [
        {
          "output_type": "display_data",
          "data": {
            "image/png": "[encoded data removed]",
            "text/plain": [
              "<Figure size 432x288 with 1 Axes>"
            ]
          },
          "metadata": {
            "tags": [],
            "needs_background": "light"
          }
        },
        {
          "output_type": "display_data",
          "data": {
            "image/png": "[encoded data removed]",
            "text/plain": [
              "<Figure size 432x288 with 1 Axes>"
            ]
          },
          "metadata": {
            "tags": [],
            "needs_background": "light"
          }
        },
        {
          "output_type": "stream",
          "text": [
            "Precision: 0.575\n",
            "Recall: 0.4339622641509434\n",
            "Precision + Recall: 1.0089622641509433\n"
          ],
          "name": "stdout"
        }
      ]
    },
    {
      "cell_type": "markdown",
      "metadata": {
        "id": "d3iBaMmJe_G7"
      },
      "source": [
        "## Neural Network"
      ]
    },
    {
      "cell_type": "code",
      "metadata": {
        "id": "85tsOT96AWLK",
        "outputId": "a888ee28-49a8-4972-8418-028b8ceac4cd",
        "colab": {
          "base_uri": "https://localhost:8080/",
          "height": 1000
        }
      },
      "source": [
        "import tensorflow as tf\n",
        "from keras.layers.normalization import BatchNormalization\n",
        "\n",
        "# Normalization\n",
        "# Dropout, adam -> sgd, layer increase\n",
        "def net():\n",
        "  model = tf.keras.models.Sequential()\n",
        "  model.add(tf.keras.layers.Dense(40, activation='relu', input_shape=(49,)))\n",
        "  model.add(BatchNormalization())\n",
        "  model.add(tf.keras.layers.Dropout(0.4))\n",
        "  model.add(tf.keras.layers.Dense(40, activation='relu'))\n",
        "  model.add(tf.keras.layers.Dropout(0.4))\n",
        "  model.add(tf.keras.layers.Dense(40, activation='relu'))\n",
        "  model.add(tf.keras.layers.Dropout(0.4))\n",
        "  model.add(tf.keras.layers.Dense(1, activation='sigmoid'))\n",
        "  return model\n",
        "\n",
        "model = net()\n",
        "# model.summary()\n",
        "\n",
        "lr_schedule = tf.keras.optimizers.schedules.ExponentialDecay(\n",
        "    initial_learning_rate=1e-2,\n",
        "    decay_steps=10000,\n",
        "    decay_rate=0.9)\n",
        "\n",
        "opt = tf.keras.optimizers.Adam(learning_rate=lr_schedule)\n",
        "# opt = tf.keras.optimizers.Adam(learning_rate=0.01)\n",
        "model.compile(\n",
        "    optimizer=opt,\n",
        "    loss=\"binary_crossentropy\",\n",
        ")\n",
        "history = model.fit(training_data_list, training_ans_list, epochs=40, batch_size=312, validation_data=(testing_data_list, testing_ans_list))\n",
        "\n",
        "# plot loss\n",
        "plot_loss(history)\n",
        "\n",
        "predict_result = model.predict(testing_data_list)\n",
        "predict_result = predict_result.round() # Force output to [0, 1]\n",
        "plot_roc(testing_ans_list, predict_result)\n",
        "plot_precision_recall(testing_ans_list, predict_result)"
      ],
      "execution_count": null,
      "outputs": [
        {
          "output_type": "stream",
          "text": [
            "Epoch 1/40\n",
            "9/9 [==============================] - 0s 28ms/step - loss: 0.6994 - val_loss: 2.2204\n",
            "Epoch 2/40\n",
            "9/9 [==============================] - 0s 4ms/step - loss: 0.6438 - val_loss: 1.0920\n",
            "Epoch 3/40\n",
            "9/9 [==============================] - 0s 4ms/step - loss: 0.6076 - val_loss: 0.9296\n",
            "Epoch 4/40\n",
            "9/9 [==============================] - 0s 4ms/step - loss: 0.5691 - val_loss: 1.0067\n",
            "Epoch 5/40\n",
            "9/9 [==============================] - 0s 4ms/step - loss: 0.5530 - val_loss: 0.6865\n",
            "Epoch 6/40\n",
            "9/9 [==============================] - 0s 5ms/step - loss: 0.5216 - val_loss: 0.9137\n",
            "Epoch 7/40\n",
            "9/9 [==============================] - 0s 5ms/step - loss: 0.4988 - val_loss: 0.5566\n",
            "Epoch 8/40\n",
            "9/9 [==============================] - 0s 5ms/step - loss: 0.4741 - val_loss: 0.7374\n",
            "Epoch 9/40\n",
            "9/9 [==============================] - 0s 5ms/step - loss: 0.4675 - val_loss: 0.8028\n",
            "Epoch 10/40\n",
            "9/9 [==============================] - 0s 6ms/step - loss: 0.4758 - val_loss: 0.8256\n",
            "Epoch 11/40\n",
            "9/9 [==============================] - 0s 5ms/step - loss: 0.4644 - val_loss: 0.7724\n",
            "Epoch 12/40\n",
            "9/9 [==============================] - 0s 5ms/step - loss: 0.4654 - val_loss: 0.7330\n",
            "Epoch 13/40\n",
            "9/9 [==============================] - 0s 5ms/step - loss: 0.4357 - val_loss: 0.7147\n",
            "Epoch 14/40\n",
            "9/9 [==============================] - 0s 4ms/step - loss: 0.4538 - val_loss: 0.9133\n",
            "Epoch 15/40\n",
            "9/9 [==============================] - 0s 4ms/step - loss: 0.4478 - val_loss: 0.8047\n",
            "Epoch 16/40\n",
            "9/9 [==============================] - 0s 4ms/step - loss: 0.4312 - val_loss: 0.7276\n",
            "Epoch 17/40\n",
            "9/9 [==============================] - 0s 4ms/step - loss: 0.4577 - val_loss: 0.7751\n",
            "Epoch 18/40\n",
            "9/9 [==============================] - 0s 4ms/step - loss: 0.4274 - val_loss: 0.7155\n",
            "Epoch 19/40\n",
            "9/9 [==============================] - 0s 4ms/step - loss: 0.4670 - val_loss: 0.6486\n",
            "Epoch 20/40\n",
            "9/9 [==============================] - 0s 5ms/step - loss: 0.4393 - val_loss: 0.7116\n",
            "Epoch 21/40\n",
            "9/9 [==============================] - 0s 4ms/step - loss: 0.4472 - val_loss: 0.7848\n",
            "Epoch 22/40\n",
            "9/9 [==============================] - 0s 5ms/step - loss: 0.4219 - val_loss: 0.6836\n",
            "Epoch 23/40\n",
            "9/9 [==============================] - 0s 5ms/step - loss: 0.4432 - val_loss: 0.6622\n",
            "Epoch 24/40\n",
            "9/9 [==============================] - 0s 4ms/step - loss: 0.4227 - val_loss: 0.7733\n",
            "Epoch 25/40\n",
            "9/9 [==============================] - 0s 4ms/step - loss: 0.4148 - val_loss: 0.7287\n",
            "Epoch 26/40\n",
            "9/9 [==============================] - 0s 4ms/step - loss: 0.3996 - val_loss: 0.6369\n",
            "Epoch 27/40\n",
            "9/9 [==============================] - 0s 4ms/step - loss: 0.4129 - val_loss: 0.6480\n",
            "Epoch 28/40\n",
            "9/9 [==============================] - 0s 5ms/step - loss: 0.4184 - val_loss: 0.7191\n",
            "Epoch 29/40\n",
            "9/9 [==============================] - 0s 5ms/step - loss: 0.4218 - val_loss: 0.6781\n",
            "Epoch 30/40\n",
            "9/9 [==============================] - 0s 4ms/step - loss: 0.4154 - val_loss: 0.6344\n",
            "Epoch 31/40\n",
            "9/9 [==============================] - 0s 4ms/step - loss: 0.4243 - val_loss: 0.5966\n",
            "Epoch 32/40\n",
            "9/9 [==============================] - 0s 4ms/step - loss: 0.4078 - val_loss: 0.6217\n",
            "Epoch 33/40\n",
            "9/9 [==============================] - 0s 5ms/step - loss: 0.4174 - val_loss: 0.6678\n",
            "Epoch 34/40\n",
            "9/9 [==============================] - 0s 4ms/step - loss: 0.4197 - val_loss: 0.7898\n",
            "Epoch 35/40\n",
            "9/9 [==============================] - 0s 5ms/step - loss: 0.4238 - val_loss: 0.7092\n",
            "Epoch 36/40\n",
            "9/9 [==============================] - 0s 4ms/step - loss: 0.4115 - val_loss: 0.5341\n",
            "Epoch 37/40\n",
            "9/9 [==============================] - 0s 5ms/step - loss: 0.4017 - val_loss: 0.7664\n",
            "Epoch 38/40\n",
            "9/9 [==============================] - 0s 5ms/step - loss: 0.3990 - val_loss: 0.7830\n",
            "Epoch 39/40\n",
            "9/9 [==============================] - 0s 4ms/step - loss: 0.4309 - val_loss: 0.8684\n",
            "Epoch 40/40\n",
            "9/9 [==============================] - 0s 5ms/step - loss: 0.4091 - val_loss: 0.7868\n"
          ],
          "name": "stdout"
        },
        {
          "output_type": "display_data",
          "data": {
            "image/png": "[encoded data removed]",
            "text/plain": [
              "<Figure size 432x288 with 1 Axes>"
            ]
          },
          "metadata": {
            "tags": [],
            "needs_background": "light"
          }
        },
        {
          "output_type": "display_data",
          "data": {
            "image/png": "[encoded data removed]",
            "text/plain": [
              "<Figure size 432x288 with 1 Axes>"
            ]
          },
          "metadata": {
            "tags": [],
            "needs_background": "light"
          }
        },
        {
          "output_type": "display_data",
          "data": {
            "image/png": "[encoded data removed]",
            "text/plain": [
              "<Figure size 432x288 with 1 Axes>"
            ]
          },
          "metadata": {
            "tags": [],
            "needs_background": "light"
          }
        },
        {
          "output_type": "stream",
          "text": [
            "Precision: 0.22466960352422907\n",
            "Recall: 0.9622641509433962\n",
            "Precision + Recall: 1.1869337544676253\n"
          ],
          "name": "stdout"
        }
      ]
    },
    {
      "cell_type": "code",
      "metadata": {
        "id": "h6RJS7n2ka2A",
        "outputId": "a2ab74a2-820a-4d7f-909d-07d0a077b308",
        "colab": {
          "base_uri": "https://localhost:8080/"
        }
      },
      "source": [
        "# model.save(\"./draft.h5\")\n",
        "\n"
      ],
      "execution_count": null,
      "outputs": [
        {
          "output_type": "stream",
          "text": [
            "[[0.]\n",
            " [1.]\n",
            " [0.]\n",
            " [1.]\n",
            " [0.]\n",
            " [0.]\n",
            " [0.]\n",
            " [0.]\n",
            " [1.]\n",
            " [1.]\n",
            " [1.]\n",
            " [1.]\n",
            " [1.]\n",
            " [0.]\n",
            " [1.]\n",
            " [0.]\n",
            " [0.]\n",
            " [1.]\n",
            " [0.]\n",
            " [0.]\n",
            " [0.]\n",
            " [0.]\n",
            " [1.]\n",
            " [0.]\n",
            " [0.]\n",
            " [1.]\n",
            " [0.]\n",
            " [0.]\n",
            " [0.]\n",
            " [1.]\n",
            " [0.]\n",
            " [1.]\n",
            " [1.]\n",
            " [1.]\n",
            " [0.]\n",
            " [0.]\n",
            " [1.]\n",
            " [0.]\n",
            " [0.]\n",
            " [1.]\n",
            " [0.]\n",
            " [1.]\n",
            " [0.]\n",
            " [1.]\n",
            " [0.]\n",
            " [0.]\n",
            " [0.]\n",
            " [0.]\n",
            " [1.]\n",
            " [1.]\n",
            " [0.]\n",
            " [1.]\n",
            " [0.]\n",
            " [1.]\n",
            " [0.]\n",
            " [1.]\n",
            " [1.]\n",
            " [1.]\n",
            " [1.]\n",
            " [0.]\n",
            " [0.]\n",
            " [0.]\n",
            " [0.]\n",
            " [0.]\n",
            " [0.]\n",
            " [1.]\n",
            " [1.]\n",
            " [1.]\n",
            " [0.]\n",
            " [1.]\n",
            " [0.]\n",
            " [1.]\n",
            " [1.]\n",
            " [0.]\n",
            " [1.]\n",
            " [1.]\n",
            " [0.]\n",
            " [0.]\n",
            " [1.]\n",
            " [0.]\n",
            " [1.]\n",
            " [1.]\n",
            " [0.]\n",
            " [1.]\n",
            " [1.]\n",
            " [1.]\n",
            " [0.]\n",
            " [1.]\n",
            " [1.]\n",
            " [1.]\n",
            " [1.]\n",
            " [0.]\n",
            " [1.]\n",
            " [1.]\n",
            " [1.]\n",
            " [0.]\n",
            " [1.]\n",
            " [0.]\n",
            " [1.]\n",
            " [0.]\n",
            " [0.]\n",
            " [0.]\n",
            " [1.]\n",
            " [0.]\n",
            " [0.]\n",
            " [1.]\n",
            " [1.]\n",
            " [0.]\n",
            " [1.]\n",
            " [0.]\n",
            " [0.]\n",
            " [0.]\n",
            " [1.]\n",
            " [1.]\n",
            " [0.]\n",
            " [1.]\n",
            " [0.]\n",
            " [1.]\n",
            " [1.]\n",
            " [1.]\n",
            " [0.]\n",
            " [1.]\n",
            " [1.]\n",
            " [1.]\n",
            " [1.]\n",
            " [1.]\n",
            " [1.]\n",
            " [1.]\n",
            " [1.]\n",
            " [0.]\n",
            " [1.]\n",
            " [1.]\n",
            " [1.]\n",
            " [1.]\n",
            " [0.]\n",
            " [1.]\n",
            " [0.]\n",
            " [0.]\n",
            " [1.]\n",
            " [0.]\n",
            " [0.]\n",
            " [1.]\n",
            " [1.]\n",
            " [0.]\n",
            " [0.]\n",
            " [1.]\n",
            " [1.]\n",
            " [0.]\n",
            " [0.]\n",
            " [0.]\n",
            " [0.]\n",
            " [1.]\n",
            " [1.]\n",
            " [0.]\n",
            " [0.]\n",
            " [0.]\n",
            " [0.]\n",
            " [0.]\n",
            " [1.]\n",
            " [1.]\n",
            " [0.]\n",
            " [0.]\n",
            " [0.]\n",
            " [1.]\n",
            " [1.]\n",
            " [0.]\n",
            " [1.]\n",
            " [0.]\n",
            " [0.]\n",
            " [0.]\n",
            " [0.]\n",
            " [0.]\n",
            " [1.]\n",
            " [1.]\n",
            " [1.]\n",
            " [1.]\n",
            " [1.]\n",
            " [1.]\n",
            " [0.]\n",
            " [1.]\n",
            " [0.]\n",
            " [1.]\n",
            " [1.]\n",
            " [0.]\n",
            " [0.]\n",
            " [0.]\n",
            " [1.]\n",
            " [1.]\n",
            " [0.]\n",
            " [0.]\n",
            " [1.]\n",
            " [0.]\n",
            " [1.]\n",
            " [0.]\n",
            " [0.]\n",
            " [1.]\n",
            " [0.]\n",
            " [0.]\n",
            " [0.]\n",
            " [1.]\n",
            " [1.]\n",
            " [0.]\n",
            " [1.]\n",
            " [0.]\n",
            " [1.]\n",
            " [1.]\n",
            " [1.]\n",
            " [1.]\n",
            " [0.]\n",
            " [1.]\n",
            " [0.]\n",
            " [0.]\n",
            " [1.]\n",
            " [0.]\n",
            " [1.]\n",
            " [0.]\n",
            " [0.]\n",
            " [0.]\n",
            " [0.]\n",
            " [1.]\n",
            " [1.]\n",
            " [1.]\n",
            " [1.]\n",
            " [0.]\n",
            " [1.]\n",
            " [1.]\n",
            " [1.]\n",
            " [0.]\n",
            " [0.]\n",
            " [0.]\n",
            " [0.]\n",
            " [0.]\n",
            " [1.]\n",
            " [0.]\n",
            " [0.]\n",
            " [0.]\n",
            " [1.]\n",
            " [1.]\n",
            " [1.]\n",
            " [0.]\n",
            " [0.]\n",
            " [1.]\n",
            " [1.]\n",
            " [1.]\n",
            " [0.]\n",
            " [1.]\n",
            " [1.]\n",
            " [1.]\n",
            " [1.]\n",
            " [1.]\n",
            " [1.]\n",
            " [1.]\n",
            " [0.]\n",
            " [0.]\n",
            " [1.]\n",
            " [1.]\n",
            " [1.]\n",
            " [1.]\n",
            " [1.]\n",
            " [1.]\n",
            " [1.]\n",
            " [1.]\n",
            " [1.]\n",
            " [0.]\n",
            " [0.]\n",
            " [1.]\n",
            " [1.]\n",
            " [1.]\n",
            " [0.]\n",
            " [1.]\n",
            " [1.]\n",
            " [1.]\n",
            " [1.]\n",
            " [1.]\n",
            " [0.]\n",
            " [1.]\n",
            " [0.]\n",
            " [0.]\n",
            " [0.]\n",
            " [1.]\n",
            " [0.]\n",
            " [0.]\n",
            " [0.]\n",
            " [1.]\n",
            " [0.]\n",
            " [1.]\n",
            " [1.]\n",
            " [0.]\n",
            " [1.]\n",
            " [1.]\n",
            " [0.]\n",
            " [1.]\n",
            " [0.]\n",
            " [0.]\n",
            " [1.]\n",
            " [0.]\n",
            " [1.]\n",
            " [1.]\n",
            " [0.]\n",
            " [1.]\n",
            " [0.]\n",
            " [1.]\n",
            " [1.]\n",
            " [1.]\n",
            " [1.]\n",
            " [0.]\n",
            " [1.]\n",
            " [1.]\n",
            " [0.]\n",
            " [1.]\n",
            " [0.]\n",
            " [0.]\n",
            " [1.]\n",
            " [1.]\n",
            " [1.]\n",
            " [0.]\n",
            " [1.]\n",
            " [1.]\n",
            " [1.]\n",
            " [1.]\n",
            " [0.]\n",
            " [1.]\n",
            " [0.]\n",
            " [0.]\n",
            " [1.]\n",
            " [0.]\n",
            " [0.]\n",
            " [1.]\n",
            " [1.]\n",
            " [1.]\n",
            " [0.]\n",
            " [1.]\n",
            " [1.]\n",
            " [0.]\n",
            " [1.]\n",
            " [0.]\n",
            " [1.]\n",
            " [1.]\n",
            " [1.]\n",
            " [0.]\n",
            " [1.]\n",
            " [0.]\n",
            " [0.]\n",
            " [0.]\n",
            " [1.]\n",
            " [1.]\n",
            " [0.]\n",
            " [1.]\n",
            " [0.]\n",
            " [1.]\n",
            " [1.]\n",
            " [0.]\n",
            " [1.]\n",
            " [1.]\n",
            " [0.]\n",
            " [0.]\n",
            " [0.]\n",
            " [0.]\n",
            " [0.]\n",
            " [0.]\n",
            " [0.]\n",
            " [0.]\n",
            " [1.]\n",
            " [1.]\n",
            " [1.]\n",
            " [0.]\n",
            " [0.]]\n"
          ],
          "name": "stdout"
        }
      ]
    },
    {
      "cell_type": "code",
      "metadata": {
        "id": "jK8gtGAPGfRG"
      },
      "source": [
        ""
      ],
      "execution_count": null,
      "outputs": []
    }
  ]
}