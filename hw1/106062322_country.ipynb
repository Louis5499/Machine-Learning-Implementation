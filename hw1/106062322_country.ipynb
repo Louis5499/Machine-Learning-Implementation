{
 "cells": [
  {
   "cell_type": "code",
   "execution_count": 1,
   "metadata": {
    "id": "27Nql1W341gI"
   },
   "outputs": [],
   "source": [
    "import warnings\n",
    "warnings.simplefilter(action=\"ignore\", category=FutureWarning)"
   ]
  },
  {
   "cell_type": "code",
   "execution_count": 2,
   "metadata": {
    "colab": {
     "base_uri": "https://localhost:8080/",
     "height": 102
    },
    "id": "ZLDFNSWnu2Qz",
    "outputId": "b43f4162-bb13-40cd-fe93-5a2b53861163"
   },
   "outputs": [
    {
     "name": "stderr",
     "output_type": "stream",
     "text": [
      "/usr/local/anaconda3/lib/python3.7/site-packages/ipykernel_launcher.py:27: SettingWithCopyWarning: \n",
      "A value is trying to be set on a copy of a slice from a DataFrame.\n",
      "Try using .loc[row_indexer,col_indexer] = value instead\n",
      "\n",
      "See the caveats in the documentation: https://pandas.pydata.org/pandas-docs/stable/user_guide/indexing.html#returning-a-view-versus-a-copy\n"
     ]
    }
   ],
   "source": [
    "import pandas as pd\n",
    "data = pd.read_csv('./download.csv')\n",
    "\n",
    "# Create Dataframe\n",
    "df = pd.DataFrame(data)\n",
    "\n",
    "# Adjust below zero data\n",
    "num = df._get_numeric_data()\n",
    "num[num < 0] = 0\n",
    "\n",
    "# Split data from original dataset by country \n",
    "countries = df['countriesAndTerritories'].unique().tolist()\n",
    "countries.remove('Cases_on_an_international_conveyance_Japan')\n",
    "training_data_list = []\n",
    "testing_data_list = []\n",
    "final_data_list = []\n",
    "allow_country = [ 'Russia', 'Greece', 'India', 'United_States_of_America', 'Turkey' ]\n",
    "for country in allow_country:\n",
    "  temp = df.loc[df.countriesAndTerritories == country]\n",
    "  temp = temp.iloc[::-1] # Reverse Dataset\n",
    "  testing_data = temp[-7:].reset_index()\n",
    "  testing_data['idx'] = range(0, len(testing_data))\n",
    "  testing_data_list.append(testing_data) # Only fetch 7 datum for testing\n",
    "\n",
    "  # Add idx to data\n",
    "  training_data = temp[-57:-7] # Only fetch 90 datum for training\n",
    "  training_data['idx'] = range(1, len(training_data) + 1)\n",
    "  training_data = training_data.reset_index()\n",
    "  training_data_list.append(training_data)\n",
    "\n",
    "  final_data = temp[-50:]\n",
    "  final_data = final_data.reset_index()\n",
    "  final_data_list.append(final_data)"
   ]
  },
  {
   "cell_type": "code",
   "execution_count": 3,
   "metadata": {
    "colab": {
     "base_uri": "https://localhost:8080/",
     "height": 153
    },
    "id": "d-_IGFGsEwl6",
    "outputId": "d0e07a83-0cf0-4a8c-a60f-4127d7205c91"
   },
   "outputs": [
    {
     "name": "stdout",
     "output_type": "stream",
     "text": [
      "Collecting statsmodels\n",
      "  Downloading statsmodels-0.12.0-cp37-cp37m-macosx_10_13_x86_64.whl (9.6 MB)\n",
      "\u001b[K     |████████████████████████████████| 9.6 MB 13.0 MB/s eta 0:00:01     |██████████████████████████████▊ | 9.2 MB 13.0 MB/s eta 0:00:01\n",
      "\u001b[?25hRequirement already satisfied, skipping upgrade: scipy>=1.1 in /usr/local/anaconda3/lib/python3.7/site-packages (from statsmodels) (1.4.1)\n",
      "Requirement already satisfied, skipping upgrade: patsy>=0.5 in /usr/local/anaconda3/lib/python3.7/site-packages (from statsmodels) (0.5.1)\n",
      "Requirement already satisfied, skipping upgrade: pandas>=0.21 in /usr/local/anaconda3/lib/python3.7/site-packages (from statsmodels) (1.0.1)\n",
      "Requirement already satisfied, skipping upgrade: numpy>=1.15 in /usr/local/anaconda3/lib/python3.7/site-packages (from statsmodels) (1.18.1)\n",
      "Requirement already satisfied, skipping upgrade: six in /usr/local/anaconda3/lib/python3.7/site-packages (from patsy>=0.5->statsmodels) (1.14.0)\n",
      "Requirement already satisfied, skipping upgrade: pytz>=2017.2 in /usr/local/anaconda3/lib/python3.7/site-packages (from pandas>=0.21->statsmodels) (2019.3)\n",
      "Requirement already satisfied, skipping upgrade: python-dateutil>=2.6.1 in /usr/local/anaconda3/lib/python3.7/site-packages (from pandas>=0.21->statsmodels) (2.8.1)\n",
      "Installing collected packages: statsmodels\n",
      "  Attempting uninstall: statsmodels\n",
      "    Found existing installation: statsmodels 0.11.0\n",
      "    Uninstalling statsmodels-0.11.0:\n",
      "      Successfully uninstalled statsmodels-0.11.0\n",
      "Successfully installed statsmodels-0.12.0\n",
      "Note: you may need to restart the kernel to use updated packages.\n"
     ]
    }
   ],
   "source": [
    "pip install statsmodels --upgrade"
   ]
  },
  {
   "cell_type": "code",
   "execution_count": 4,
   "metadata": {
    "colab": {
     "base_uri": "https://localhost:8080/",
     "height": 102
    },
    "id": "rErNdiBZyDmv",
    "outputId": "8e27c7f2-2805-4e76-9872-a67ed185143a"
   },
   "outputs": [
    {
     "name": "stdout",
     "output_type": "stream",
     "text": [
      "country: Russia  lowest: 0.021235898138066447    lowest_idx: 4\n",
      "country: Greece  lowest: 0.15968116119596099    lowest_idx: 8\n",
      "country: India  lowest: 0.09953979307584036    lowest_idx: 12\n",
      "country: United_States_of_America  lowest: 0.08126445459665425    lowest_idx: 9\n",
      "country: Turkey  lowest: 0.029257857774600864    lowest_idx: 1\n"
     ]
    }
   ],
   "source": [
    "from statsmodels.tsa.ar_model import AutoReg\n",
    "import numpy as np\n",
    "import matplotlib.pyplot as plt\n",
    "\n",
    "def mape(y_pred, y_true):\n",
    "  error = 0\n",
    "  for (idx, true_item) in enumerate(y_true):\n",
    "    if (true_item != 0):\n",
    "      pred_item = y_pred[idx]\n",
    "      error += abs((pred_item - true_item) / (true_item))\n",
    "  return error/len(y_true)\n",
    "\n",
    "# Variable\n",
    "window_size = 25\n",
    "country_window_map = {}\n",
    "total_windows = []\n",
    "\n",
    "for (idx, country_data) in enumerate(training_data_list):\n",
    "  cases_arr = country_data['cases']\n",
    "  cases_arr_testing = testing_data_list[idx]['cases']\n",
    "  \n",
    "  # Test different window_size and try to get the optimal result!\n",
    "  window_error = [0] * window_size\n",
    "  window_error[0] = 9999999\n",
    "\n",
    "  for window_idx in range(1, window_size):\n",
    "    # Execute AutoRegression: Lag(window) means that we would use how many data as the coefficient\n",
    "    model = AutoReg(cases_arr, lags=window_idx)\n",
    "    model_fit = model.fit()\n",
    "\n",
    "    predict_arr = model_fit.predict(start=len(cases_arr), end=len(cases_arr)+len(cases_arr_testing)-1)\n",
    "    predict_arr = predict_arr.reset_index(drop=True)\n",
    "    for i in range(len(predict_arr)):\n",
    "      if predict_arr[i] < 0: predict_arr[i] = 0\n",
    "      predict_arr[i] = round(predict_arr[i], 0)\n",
    "\n",
    "    # print(f'mape={mape(predict_arr, cases_arr_testing)}')\n",
    "    window_error[window_idx] += mape(predict_arr, cases_arr_testing)\n",
    "\n",
    "  # Predict the lowest error parameter\n",
    "  lowest = 999999999\n",
    "  lowest_idx = 999\n",
    "  for (idx, window) in enumerate(window_error):\n",
    "    if window < lowest:\n",
    "      lowest = window\n",
    "      lowest_idx = idx\n",
    "\n",
    "  country_name = country_data['countriesAndTerritories'][0]\n",
    "  print(f'country: {country_name}  lowest: {lowest}    lowest_idx: {lowest_idx}')\n",
    "  country_window_map[country_data['countriesAndTerritories'][0]] = lowest_idx\n",
    "  total_windows.append(lowest_idx)\n",
    "\n",
    "\n",
    "  model = AutoReg(cases_arr, lags=lowest_idx)\n",
    "  model_fit = model.fit()\n",
    "  predict_arr = model_fit.predict(start=len(cases_arr), end=len(cases_arr)+len(cases_arr_testing)-1)\n",
    "  predict_arr = predict_arr.reset_index(drop=True)\n",
    "  for i in range(len(predict_arr)):\n",
    "    if predict_arr[i] < 0: predict_arr[i] = 0\n",
    "    predict_arr[i] = round(predict_arr[i], 0)"
   ]
  },
  {
   "cell_type": "code",
   "execution_count": 8,
   "metadata": {
    "colab": {
     "base_uri": "https://localhost:8080/",
     "height": 17
    },
    "id": "FlzuIxP7T6n4",
    "outputId": "7ecdea60-3f77-4d7f-c4e3-bb3d494abc47"
   },
   "outputs": [],
   "source": [
    "import csv\n",
    "\n",
    "# Variable\n",
    "predict_date = 7\n",
    "# lags = 7\n",
    "predict_map = []\n",
    "country_list = []\n",
    "\n",
    "for (idx, country_data) in enumerate(final_data_list):\n",
    "  cases_arr = country_data['cases']\n",
    "\n",
    "  model = AutoReg(cases_arr, lags=country_window_map[country_data['countriesAndTerritories'][0]])\n",
    "  model_fit = model.fit()\n",
    "  predict_arr = model_fit.predict(start=len(cases_arr), end=len(cases_arr)+predict_date-1)\n",
    "  predict_arr = predict_arr.reset_index(drop=True)\n",
    "  for i in range(len(predict_arr)):\n",
    "    if predict_arr[i] < 0: predict_arr[i] = 0\n",
    "    predict_arr[i] = round(predict_arr[i], 0)\n",
    "\n",
    "  country_list.append(country_data['countriesAndTerritories'][0])\n",
    "  predict_map.append(tuple(predict_arr))\n",
    "\n",
    "result = zip(*predict_map)\n",
    "with open('output.csv', 'w', newline='') as csvfile:\n",
    "  writer = csv.writer(csvfile)\n",
    "  country_list = [''] +  country_list\n",
    "  writer.writerow(country_list)\n",
    "  for idx, val in enumerate(result):\n",
    "    date_str = '10/' + str(idx+9)\n",
    "    val = [date_str] + list(val)\n",
    "    writer.writerow(val)"
   ]
  },
  {
   "cell_type": "code",
   "execution_count": null,
   "metadata": {
    "id": "2uCFE48cTQNt"
   },
   "outputs": [],
   "source": []
  }
 ],
 "metadata": {
  "colab": {
   "collapsed_sections": [],
   "name": "hw1-ar-export-5",
   "provenance": []
  },
  "kernelspec": {
   "display_name": "Python 3",
   "language": "python",
   "name": "python3"
  },
  "language_info": {
   "codemirror_mode": {
    "name": "ipython",
    "version": 3
   },
   "file_extension": ".py",
   "mimetype": "text/x-python",
   "name": "python",
   "nbconvert_exporter": "python",
   "pygments_lexer": "ipython3",
   "version": "3.7.6"
  }
 },
 "nbformat": 4,
 "nbformat_minor": 1
}
